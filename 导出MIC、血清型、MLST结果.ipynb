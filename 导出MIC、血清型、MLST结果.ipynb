{
 "cells": [
  {
   "cell_type": "code",
   "execution_count": null,
   "id": "76deaf83",
   "metadata": {},
   "outputs": [],
   "source": [
    "import pandas as pd\n",
    "\n",
    "path = '/data/home/zhaocj/spn_forcast/df数据整理/../7mer_output/RBIND_7mer'\n",
    "\n",
    "df = pd.read_table(path, header=None, names=['SEQ', 'COUNT', 'ID'])\n",
    "id_number = pd.read_table('/data/home/zhaocj/spn_forcast/df数据整理/ID.txt')\n",
    "mic = pd.read_table('/data/home/zhaocj/spn_forcast/df数据整理/mic.txt')\n",
    "ris = pd.read_table('/data/home/zhaocj/spn_forcast/df数据整理/ris.txt')\n",
    "sero = pd.read_table('/data/home/zhaocj/seroba/summary.tsv', header=None, names=['ID', 'SEROTYPE', 'COMMENT'])\n",
    "sero2 = pd.read_table('sero2.txt')\n",
    "sero2['COMMENT'] = 'NaN'\n",
    "sero = pd.concat([sero, sero2])\n",
    "sero.rename(columns={'SEROTYPE':'SEROTYPE_AI'}, inplace = True)\n",
    "mlst = pd.read_table('MLST.txt')"
   ]
  },
  {
   "cell_type": "code",
   "execution_count": null,
   "id": "59f9086f",
   "metadata": {},
   "outputs": [],
   "source": [
    "df = df.pivot_table(index=['ID'], columns='SEQ', values='COUNT', fill_value=0).reset_index()\n",
    "\n",
    "# 把 df 的ID转换为字符型\n",
    "for i in range(df.shape[0]):\n",
    "    df.iloc[i, 0] = str(df.iloc[i, 0])\n",
    "\n",
    "# 选取id_number数据表里有的菌\n",
    "df = df.set_index('ID')\n",
    "df = df.loc[list(id_number['ID'])].reset_index()\n",
    "\n",
    "df = df[['ID']]\n",
    "\n",
    "# 合并MIC\n",
    "df = pd.merge(df, mic, how = 'left', on=['ID'])\n",
    "\n",
    "# 合并手工血清型\n",
    "df = pd.merge(df, ris[['ID', 'SEROTYPE']], how = 'left', on=['ID'])\n",
    "\n",
    "# 合并seroBA血清型\n",
    "df = pd.merge(df, sero, how = 'left', on=['ID'])\n",
    "\n",
    "# 合并MLST\n",
    "df = pd.merge(df, mlst, how = 'left', on=['ID'])"
   ]
  },
  {
   "cell_type": "code",
   "execution_count": null,
   "id": "be7f99cd",
   "metadata": {},
   "outputs": [],
   "source": [
    "# 看一眼\n",
    "df"
   ]
  },
  {
   "cell_type": "code",
   "execution_count": null,
   "id": "90463593",
   "metadata": {},
   "outputs": [],
   "source": [
    "# 导出数据\n",
    "df.to_csv('633菌株MIC.txt')"
   ]
  }
 ],
 "metadata": {
  "kernelspec": {
   "display_name": "Python 3",
   "language": "python",
   "name": "python3"
  },
  "language_info": {
   "codemirror_mode": {
    "name": "ipython",
    "version": 3
   },
   "file_extension": ".py",
   "mimetype": "text/x-python",
   "name": "python",
   "nbconvert_exporter": "python",
   "pygments_lexer": "ipython3",
   "version": "3.8.3"
  }
 },
 "nbformat": 4,
 "nbformat_minor": 5
}
