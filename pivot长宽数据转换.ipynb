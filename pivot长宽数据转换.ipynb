{
 "cells": [
  {
   "cell_type": "code",
   "execution_count": null,
   "id": "dafe6d3e",
   "metadata": {},
   "outputs": [],
   "source": [
    "import pandas as pd\n",
    "import os\n",
    "\n",
    "path='../7mer_output/RBIND_7mer'\n",
    "#path = '../9mer_output/RBIND_9mer'\n",
    "\n",
    "try:\n",
    "    df = pd.read_table(path, header=None, names=['SEQ', 'COUNT', 'ID'])\n",
    "    id_number = pd.read_table('ID.txt')\n",
    "    ris = pd.read_table('ris.txt')\n",
    "except:\n",
    "    print('数据导入失败！/(ㄒoㄒ)/~~')\n",
    "else:\n",
    "    print('数据导入成功！')\n",
    "    \n",
    "\n",
    "print(\n",
    "    df.head(),\n",
    "    id_number.head(),\n",
    "    os.getcwd(), sep='\\n'\n",
    ")"
   ]
  },
  {
   "cell_type": "code",
   "execution_count": null,
   "id": "4cfc2405",
   "metadata": {},
   "outputs": [],
   "source": [
    "df.shape"
   ]
  },
  {
   "cell_type": "code",
   "execution_count": null,
   "id": "d0282bc6",
   "metadata": {},
   "outputs": [],
   "source": [
    "df.head()"
   ]
  },
  {
   "cell_type": "code",
   "execution_count": null,
   "id": "09b17ba3",
   "metadata": {},
   "outputs": [],
   "source": [
    "df_wide = df.pivot_table(index=['ID'], columns='SEQ', values='COUNT', fill_value=0).reset_index()"
   ]
  },
  {
   "cell_type": "code",
   "execution_count": null,
   "id": "dd842f3d",
   "metadata": {
    "scrolled": true
   },
   "outputs": [],
   "source": [
    "df_wide.head()\n"
   ]
  },
  {
   "cell_type": "code",
   "execution_count": null,
   "id": "7f2b64b3",
   "metadata": {},
   "outputs": [],
   "source": [
    "df_wide.tail()"
   ]
  },
  {
   "cell_type": "code",
   "execution_count": null,
   "id": "204ecfd0",
   "metadata": {},
   "outputs": [],
   "source": [
    "df_wide = df_wide.set_index('ID')"
   ]
  },
  {
   "cell_type": "code",
   "execution_count": null,
   "id": "9b73ff74",
   "metadata": {},
   "outputs": [],
   "source": [
    "df_wide.loc[[100, 'zj07004', 'XiJ-19-56']]  # 这里的菌株号里面的数字是数值型的"
   ]
  },
  {
   "cell_type": "code",
   "execution_count": null,
   "id": "539c701c",
   "metadata": {},
   "outputs": [],
   "source": [
    "n = 0\n",
    "for i in id_number['ID']:\n",
    "    print(type(i), i, sep='\\t')\n",
    "    if n > 5:\n",
    "        break\n",
    "    n+=1\n",
    "    \n",
    "# id_number 里面的菌株号都是字符型的，需要把df_wide里的菌株号修改为字符型的"
   ]
  },
  {
   "cell_type": "code",
   "execution_count": null,
   "id": "b30dbb50",
   "metadata": {},
   "outputs": [],
   "source": [
    "df_wide = df_wide.reset_index()\n",
    "n = 0\n",
    "for i in df_wide['ID']:\n",
    "    print(type(i), i, sep='\\t')\n",
    "    if n > 5:\n",
    "        break\n",
    "    n+=1"
   ]
  },
  {
   "cell_type": "code",
   "execution_count": null,
   "id": "a4341ef2",
   "metadata": {},
   "outputs": [],
   "source": [
    "n = 0\n",
    "for i in range(710):\n",
    "    a=df_wide.iloc[i, 0]\n",
    "    print(a, type(a))\n",
    "    if n > 5:\n",
    "        break\n",
    "    n+=1"
   ]
  },
  {
   "cell_type": "code",
   "execution_count": null,
   "id": "0e07b125",
   "metadata": {},
   "outputs": [],
   "source": [
    "for i in range(710):\n",
    "    a=df_wide.iloc[i, 0]\n",
    "    df_wide.iloc[i, 0] = str(a)\n"
   ]
  },
  {
   "cell_type": "code",
   "execution_count": null,
   "id": "583e5c3c",
   "metadata": {},
   "outputs": [],
   "source": [
    "n = 0\n",
    "for i in range(710):\n",
    "    a=df_wide.iloc[i, 0]\n",
    "    print(a, type(a))\n",
    "    if n > 5:\n",
    "        break\n",
    "    n+=1"
   ]
  },
  {
   "cell_type": "code",
   "execution_count": null,
   "id": "f026956b",
   "metadata": {},
   "outputs": [],
   "source": [
    "df_wide"
   ]
  },
  {
   "cell_type": "code",
   "execution_count": null,
   "id": "e1e6e7d9",
   "metadata": {},
   "outputs": [],
   "source": [
    "df_wide = df_wide.set_index('ID')"
   ]
  },
  {
   "cell_type": "code",
   "execution_count": null,
   "id": "62c52ad1",
   "metadata": {},
   "outputs": [],
   "source": [
    "df_wide.loc[['100', 'zj07004', 'XiJ-19-56']]  # 这里的菌株号里面的数字是数值型的"
   ]
  },
  {
   "cell_type": "code",
   "execution_count": null,
   "id": "50206e26",
   "metadata": {
    "scrolled": true
   },
   "outputs": [],
   "source": [
    "df_wide.loc[list(id_number['ID'])]"
   ]
  },
  {
   "cell_type": "code",
   "execution_count": null,
   "id": "9d8e7777",
   "metadata": {},
   "outputs": [],
   "source": [
    "df_input = df_wide.loc[list(id_number['ID'])].reset_index()"
   ]
  },
  {
   "cell_type": "code",
   "execution_count": null,
   "id": "ce45f60b",
   "metadata": {},
   "outputs": [],
   "source": [
    "df_input.head()"
   ]
  },
  {
   "cell_type": "code",
   "execution_count": null,
   "id": "3b536dd6",
   "metadata": {},
   "outputs": [],
   "source": [
    "ris.head()"
   ]
  },
  {
   "cell_type": "code",
   "execution_count": null,
   "id": "610ebc5c",
   "metadata": {},
   "outputs": [],
   "source": [
    "ris[['ID', 'PEN_NM']]"
   ]
  },
  {
   "cell_type": "code",
   "execution_count": null,
   "id": "3639455b",
   "metadata": {},
   "outputs": [],
   "source": [
    "pd.merge(left, ris[['ID', 'PEN_NM']], on=[\"key1\", \"key2\"])"
   ]
  }
 ],
 "metadata": {
  "kernelspec": {
   "display_name": "Python 3",
   "language": "python",
   "name": "python3"
  },
  "language_info": {
   "codemirror_mode": {
    "name": "ipython",
    "version": 3
   },
   "file_extension": ".py",
   "mimetype": "text/x-python",
   "name": "python",
   "nbconvert_exporter": "python",
   "pygments_lexer": "ipython3",
   "version": "3.8.3"
  }
 },
 "nbformat": 4,
 "nbformat_minor": 5
}
