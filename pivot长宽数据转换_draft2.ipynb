{
 "cells": [
  {
   "cell_type": "code",
   "execution_count": 1,
   "id": "db19da9f",
   "metadata": {},
   "outputs": [
    {
     "name": "stdout",
     "output_type": "stream",
     "text": [
      "数据导入失败！/(ㄒoㄒ)/~~\n"
     ]
    }
   ],
   "source": [
    "import pandas as pd\n",
    "import os\n",
    "\n",
    "files = os.listdir(path='../11mer_output/')[:5]\n",
    "\n",
    "#path = '/data/home/zhaocj/spn_forcast/df数据整理/../7mer_output/RBIND_7mer'\n",
    "#path = '/data/home/zhaocj/spn_forcast/df数据整理/../11mer_output/RBIND_11mer'\n",
    "#path = '../9mer_output/RBIND_9mer'\n",
    "\n",
    "# test.txt 是X92到X99这几株菌的合并\n",
    "#path = '../11mer_output/test.txt'\n",
    "\n",
    "# test2 是每株菌的head\n",
    "#path = '../11mer_output/test2.txt'\n",
    "\n",
    "# test3 只是100这株菌\n",
    "#path = '../11mer_output/test3.txt'\n",
    "\n",
    "# test4 是每株菌的head, 整理后的数据\n",
    "#path = '../11mer_output/test4.txt'\n",
    "\n",
    "#path = '../11mer_output/11mers-101.txt'\n",
    "\n",
    "drug = 'PEN_NM'\n",
    "\n",
    "try:\n",
    "    df = pd.read_table(path, header=None, names=['SEQ', 'COUNT', 'ID'])\n",
    "    id_number = pd.read_table('/data/home/zhaocj/spn_forcast/df数据整理/ID.txt')\n",
    "    ris = pd.read_table('/data/home/zhaocj/spn_forcast/df数据整理/ris.txt')\n",
    "except:\n",
    "    print('数据导入失败！/(ㄒoㄒ)/~~')\n",
    "else:\n",
    "    print('数据导入成功！')"
   ]
  },
  {
   "cell_type": "code",
   "execution_count": null,
   "id": "6252e70f",
   "metadata": {},
   "outputs": [],
   "source": [
    "df.head()"
   ]
  },
  {
   "cell_type": "code",
   "execution_count": null,
   "id": "f19342cf",
   "metadata": {},
   "outputs": [],
   "source": [
    "df.shape"
   ]
  },
  {
   "cell_type": "code",
   "execution_count": null,
   "id": "e2ed7e5c",
   "metadata": {},
   "outputs": [],
   "source": [
    "df = df.pivot_table(index=['ID'], columns='SEQ', values='COUNT', fill_value=0).reset_index()"
   ]
  },
  {
   "cell_type": "code",
   "execution_count": null,
   "id": "e049296b",
   "metadata": {},
   "outputs": [],
   "source": [
    "df"
   ]
  },
  {
   "cell_type": "code",
   "execution_count": null,
   "id": "8cf0a010",
   "metadata": {},
   "outputs": [],
   "source": [
    "os.listdir(path='../11mer_output/')[:-5]"
   ]
  },
  {
   "cell_type": "code",
   "execution_count": null,
   "id": "bc476602",
   "metadata": {},
   "outputs": [],
   "source": []
  },
  {
   "cell_type": "code",
   "execution_count": null,
   "id": "c937b993",
   "metadata": {},
   "outputs": [],
   "source": []
  },
  {
   "cell_type": "code",
   "execution_count": null,
   "id": "f6ba9285",
   "metadata": {},
   "outputs": [],
   "source": [
    "df"
   ]
  },
  {
   "cell_type": "code",
   "execution_count": null,
   "id": "1170e412",
   "metadata": {},
   "outputs": [],
   "source": []
  },
  {
   "cell_type": "code",
   "execution_count": null,
   "id": "f8951edb",
   "metadata": {},
   "outputs": [],
   "source": []
  },
  {
   "cell_type": "code",
   "execution_count": null,
   "id": "0f9aec44",
   "metadata": {},
   "outputs": [],
   "source": [
    "import pandas as pd\n",
    "import os\n",
    "\n",
    "files = '../10mer_output/10mers-100.txt'\n",
    "\n",
    "df = df = pd.read_table(files, header=None, names=['SEQ', 'COUNT', 'ID'])"
   ]
  },
  {
   "cell_type": "code",
   "execution_count": null,
   "id": "dd360816",
   "metadata": {},
   "outputs": [],
   "source": [
    "df"
   ]
  },
  {
   "cell_type": "code",
   "execution_count": null,
   "id": "56793dd6",
   "metadata": {},
   "outputs": [],
   "source": []
  }
 ],
 "metadata": {
  "kernelspec": {
   "display_name": "Python 3",
   "language": "python",
   "name": "python3"
  },
  "language_info": {
   "codemirror_mode": {
    "name": "ipython",
    "version": 3
   },
   "file_extension": ".py",
   "mimetype": "text/x-python",
   "name": "python",
   "nbconvert_exporter": "python",
   "pygments_lexer": "ipython3",
   "version": "3.6.13"
  }
 },
 "nbformat": 4,
 "nbformat_minor": 5
}
