{
 "cells": [
  {
   "cell_type": "code",
   "execution_count": 16,
   "id": "3e52273c",
   "metadata": {},
   "outputs": [],
   "source": [
    "import pandas as pd\n",
    "import os\n",
    "\n",
    "files = os.listdir(path='../11mer_output/')[:10]"
   ]
  },
  {
   "cell_type": "code",
   "execution_count": 17,
   "id": "99cb96b6",
   "metadata": {},
   "outputs": [
    {
     "data": {
      "text/plain": [
       "['11mers-100.txt',\n",
       " '11mers-101.txt',\n",
       " '11mers-103.txt',\n",
       " '11mers-BR-19-60.txt',\n",
       " '11mers-104.txt',\n",
       " '11mers-BR-19-76.txt',\n",
       " '11mers-105.txt',\n",
       " '11mers-CJ-19-40.txt',\n",
       " '11mers-106.txt',\n",
       " '11mers-cq07001.txt']"
      ]
     },
     "execution_count": 17,
     "metadata": {},
     "output_type": "execute_result"
    }
   ],
   "source": [
    "files"
   ]
  },
  {
   "cell_type": "code",
   "execution_count": 18,
   "id": "063a0ea2",
   "metadata": {},
   "outputs": [
    {
     "name": "stdout",
     "output_type": "stream",
     "text": [
      "1\t11mers-100.txt\t数据导入成功！\n",
      "2\t11mers-101.txt\t数据导入成功！\n",
      "3\t11mers-103.txt\t数据导入成功！\n",
      "4\t11mers-BR-19-60.txt\t数据导入成功！\n",
      "5\t11mers-104.txt\t数据导入成功！\n",
      "6\t11mers-BR-19-76.txt\t数据导入成功！\n",
      "7\t11mers-105.txt\t数据导入成功！\n",
      "8\t11mers-CJ-19-40.txt\t数据导入成功！\n",
      "9\t11mers-106.txt\t数据导入成功！\n",
      "10\t11mers-cq07001.txt\t数据导入成功！\n"
     ]
    }
   ],
   "source": [
    "n = 1\n",
    "for file in files:\n",
    "    path = '../11mer_output/' + file\n",
    "    \n",
    "    try:\n",
    "        df = pd.read_table(path, header=None, names=['SEQ', 'COUNT', 'ID'])\n",
    "        df = df.pivot_table(index=['ID'], columns='SEQ', values='COUNT', fill_value=0).reset_index()\n",
    "    except:\n",
    "        print(f'{n}\\t{file}\\t数据导入失败！/(ㄒoㄒ)/~~')\n",
    "        n+=1\n",
    "    else:\n",
    "        print(f'{n}\\t{file}\\t数据导入成功！')\n",
    "        n+=1"
   ]
  },
  {
   "cell_type": "code",
   "execution_count": null,
   "id": "9a70fdec",
   "metadata": {},
   "outputs": [],
   "source": []
  }
 ],
 "metadata": {
  "kernelspec": {
   "display_name": "Python 3",
   "language": "python",
   "name": "python3"
  },
  "language_info": {
   "codemirror_mode": {
    "name": "ipython",
    "version": 3
   },
   "file_extension": ".py",
   "mimetype": "text/x-python",
   "name": "python",
   "nbconvert_exporter": "python",
   "pygments_lexer": "ipython3",
   "version": "3.6.13"
  }
 },
 "nbformat": 4,
 "nbformat_minor": 5
}
