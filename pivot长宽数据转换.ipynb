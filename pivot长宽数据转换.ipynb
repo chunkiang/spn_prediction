{
 "cells": [
  {
   "cell_type": "code",
   "execution_count": 2,
   "id": "dafe6d3e",
   "metadata": {},
   "outputs": [
    {
     "name": "stderr",
     "output_type": "stream",
     "text": [
      "/data/build/miniconda3/envs/cenote-taker2_env/lib/python3.6/site-packages/IPython/core/interactiveshell.py:3072: DtypeWarning: Columns (2) have mixed types.Specify dtype option on import or set low_memory=False.\n",
      "  interactivity=interactivity, compiler=compiler, result=result)\n"
     ]
    },
    {
     "name": "stdout",
     "output_type": "stream",
     "text": [
      "数据导入成功！\n",
      "       SEQ   COUNT   ID\n",
      "0  AAAAAAA  339900  100\n",
      "1  AAAAAAC  232005  100\n",
      "2  AAAAAAG  368888  100\n",
      "3  AAAAAAT  499832  100\n",
      "4  AAAAACA  280405  100\n",
      "    ID\n",
      "0  100\n",
      "1  101\n",
      "2  103\n",
      "3  104\n",
      "4  105\n",
      "/data/home/zhaocj/spn_forcast/df数据整理\n"
     ]
    }
   ],
   "source": [
    "import pandas as pd\n",
    "import os\n",
    "\n",
    "path='../7mer_output/RBIND_7mer'\n",
    "#path = '../9mer_output/RBIND_9mer'\n",
    "\n",
    "try:\n",
    "    df = pd.read_table(path, header=None, names=['SEQ', 'COUNT', 'ID'])\n",
    "    id_number = pd.read_table('ID.txt')\n",
    "    ris = pd.read_table('ris.txt')\n",
    "except:\n",
    "    print('数据导入失败！/(ㄒoㄒ)/~~')\n",
    "else:\n",
    "    print('数据导入成功！')\n",
    "    \n",
    "\n",
    "print(\n",
    "    df.head(),\n",
    "    id_number.head(),\n",
    "    os.getcwd(), sep='\\n'\n",
    ")"
   ]
  },
  {
   "cell_type": "code",
   "execution_count": null,
   "id": "4cfc2405",
   "metadata": {},
   "outputs": [],
   "source": [
    "df.shape"
   ]
  },
  {
   "cell_type": "code",
   "execution_count": null,
   "id": "d0282bc6",
   "metadata": {},
   "outputs": [],
   "source": [
    "df.head()"
   ]
  },
  {
   "cell_type": "code",
   "execution_count": null,
   "id": "09b17ba3",
   "metadata": {},
   "outputs": [],
   "source": [
    "df_wide = df.pivot_table(index=['ID'], columns='SEQ', values='COUNT', fill_value=0).reset_index()"
   ]
  },
  {
   "cell_type": "code",
   "execution_count": null,
   "id": "dd842f3d",
   "metadata": {
    "scrolled": true
   },
   "outputs": [],
   "source": [
    "df_wide.head()\n"
   ]
  },
  {
   "cell_type": "code",
   "execution_count": null,
   "id": "7f2b64b3",
   "metadata": {},
   "outputs": [],
   "source": [
    "df_wide.tail()"
   ]
  },
  {
   "cell_type": "code",
   "execution_count": null,
   "id": "204ecfd0",
   "metadata": {},
   "outputs": [],
   "source": [
    "df_wide = df_wide.set_index('ID')"
   ]
  },
  {
   "cell_type": "code",
   "execution_count": null,
   "id": "9b73ff74",
   "metadata": {},
   "outputs": [],
   "source": [
    "df_wide.loc[[100, 'zj07004', 'XiJ-19-56']]  # 这里的菌株号里面的数字是数值型的"
   ]
  },
  {
   "cell_type": "code",
   "execution_count": null,
   "id": "539c701c",
   "metadata": {},
   "outputs": [],
   "source": [
    "n = 0\n",
    "for i in id_number['ID']:\n",
    "    print(type(i), i, sep='\\t')\n",
    "    if n > 5:\n",
    "        break\n",
    "    n+=1\n",
    "    \n",
    "# id_number 里面的菌株号都是字符型的，需要把df_wide里的菌株号修改为字符型的"
   ]
  },
  {
   "cell_type": "code",
   "execution_count": null,
   "id": "b30dbb50",
   "metadata": {},
   "outputs": [],
   "source": [
    "df_wide = df_wide.reset_index()\n",
    "n = 0\n",
    "for i in df_wide['ID']:\n",
    "    print(type(i), i, sep='\\t')\n",
    "    if n > 5:\n",
    "        break\n",
    "    n+=1"
   ]
  },
  {
   "cell_type": "code",
   "execution_count": null,
   "id": "a4341ef2",
   "metadata": {},
   "outputs": [],
   "source": [
    "n = 0\n",
    "for i in range(710):\n",
    "    a=df_wide.iloc[i, 0]\n",
    "    print(a, type(a))\n",
    "    if n > 5:\n",
    "        break\n",
    "    n+=1"
   ]
  },
  {
   "cell_type": "code",
   "execution_count": null,
   "id": "0e07b125",
   "metadata": {},
   "outputs": [],
   "source": [
    "for i in range(710):\n",
    "    a=df_wide.iloc[i, 0]\n",
    "    df_wide.iloc[i, 0] = str(a)\n"
   ]
  },
  {
   "cell_type": "code",
   "execution_count": null,
   "id": "583e5c3c",
   "metadata": {},
   "outputs": [],
   "source": [
    "n = 0\n",
    "for i in range(710):\n",
    "    a=df_wide.iloc[i, 0]\n",
    "    print(a, type(a))\n",
    "    if n > 5:\n",
    "        break\n",
    "    n+=1"
   ]
  },
  {
   "cell_type": "code",
   "execution_count": null,
   "id": "f026956b",
   "metadata": {},
   "outputs": [],
   "source": [
    "df_wide"
   ]
  },
  {
   "cell_type": "code",
   "execution_count": null,
   "id": "e1e6e7d9",
   "metadata": {},
   "outputs": [],
   "source": [
    "df_wide = df_wide.set_index('ID')"
   ]
  },
  {
   "cell_type": "code",
   "execution_count": null,
   "id": "62c52ad1",
   "metadata": {},
   "outputs": [],
   "source": [
    "df_wide.loc[['100', 'zj07004', 'XiJ-19-56']]  # 这里的菌株号里面的数字是数值型的"
   ]
  },
  {
   "cell_type": "code",
   "execution_count": null,
   "id": "50206e26",
   "metadata": {
    "scrolled": true
   },
   "outputs": [],
   "source": [
    "df_wide.loc[list(id_number['ID'])]"
   ]
  },
  {
   "cell_type": "code",
   "execution_count": null,
   "id": "9d8e7777",
   "metadata": {},
   "outputs": [],
   "source": [
    "df_input = df_wide.loc[list(id_number['ID'])].reset_index()"
   ]
  },
  {
   "cell_type": "code",
   "execution_count": null,
   "id": "ce45f60b",
   "metadata": {},
   "outputs": [],
   "source": [
    "df_input.head()"
   ]
  },
  {
   "cell_type": "code",
   "execution_count": 6,
   "id": "3b536dd6",
   "metadata": {},
   "outputs": [
    {
     "data": {
      "text/html": [
       "<div>\n",
       "<style scoped>\n",
       "    .dataframe tbody tr th:only-of-type {\n",
       "        vertical-align: middle;\n",
       "    }\n",
       "\n",
       "    .dataframe tbody tr th {\n",
       "        vertical-align: top;\n",
       "    }\n",
       "\n",
       "    .dataframe thead th {\n",
       "        text-align: right;\n",
       "    }\n",
       "</style>\n",
       "<table border=\"1\" class=\"dataframe\">\n",
       "  <thead>\n",
       "    <tr style=\"text-align: right;\">\n",
       "      <th></th>\n",
       "      <th>ID</th>\n",
       "      <th>PATIENT_ID</th>\n",
       "      <th>ORGANISM</th>\n",
       "      <th>PEN_NM</th>\n",
       "      <th>AMC_NM</th>\n",
       "      <th>CRO_NM</th>\n",
       "      <th>ERY_NM</th>\n",
       "      <th>LVX_NM</th>\n",
       "      <th>MFX_NM</th>\n",
       "      <th>SXT_NM</th>\n",
       "      <th>CLI_NM</th>\n",
       "      <th>SEROTYPE</th>\n",
       "    </tr>\n",
       "  </thead>\n",
       "  <tbody>\n",
       "    <tr>\n",
       "      <th>0</th>\n",
       "      <td>3</td>\n",
       "      <td>CY-20-11</td>\n",
       "      <td>spn</td>\n",
       "      <td>0</td>\n",
       "      <td>0</td>\n",
       "      <td>0</td>\n",
       "      <td>2</td>\n",
       "      <td>0</td>\n",
       "      <td>0</td>\n",
       "      <td>0</td>\n",
       "      <td>0</td>\n",
       "      <td>19F</td>\n",
       "    </tr>\n",
       "    <tr>\n",
       "      <th>1</th>\n",
       "      <td>5</td>\n",
       "      <td>HB-20-03</td>\n",
       "      <td>spn</td>\n",
       "      <td>2</td>\n",
       "      <td>0</td>\n",
       "      <td>0</td>\n",
       "      <td>2</td>\n",
       "      <td>0</td>\n",
       "      <td>0</td>\n",
       "      <td>1</td>\n",
       "      <td>2</td>\n",
       "      <td>19A</td>\n",
       "    </tr>\n",
       "    <tr>\n",
       "      <th>2</th>\n",
       "      <td>6</td>\n",
       "      <td>HB-20-06</td>\n",
       "      <td>spn</td>\n",
       "      <td>2</td>\n",
       "      <td>0</td>\n",
       "      <td>0</td>\n",
       "      <td>2</td>\n",
       "      <td>0</td>\n",
       "      <td>0</td>\n",
       "      <td>1</td>\n",
       "      <td>2</td>\n",
       "      <td>19F</td>\n",
       "    </tr>\n",
       "    <tr>\n",
       "      <th>3</th>\n",
       "      <td>7</td>\n",
       "      <td>HB-20-12</td>\n",
       "      <td>spn</td>\n",
       "      <td>2</td>\n",
       "      <td>0</td>\n",
       "      <td>0</td>\n",
       "      <td>2</td>\n",
       "      <td>0</td>\n",
       "      <td>0</td>\n",
       "      <td>0</td>\n",
       "      <td>2</td>\n",
       "      <td>23F</td>\n",
       "    </tr>\n",
       "    <tr>\n",
       "      <th>4</th>\n",
       "      <td>8</td>\n",
       "      <td>CJ-20-05</td>\n",
       "      <td>spn</td>\n",
       "      <td>0</td>\n",
       "      <td>0</td>\n",
       "      <td>0</td>\n",
       "      <td>2</td>\n",
       "      <td>0</td>\n",
       "      <td>0</td>\n",
       "      <td>0</td>\n",
       "      <td>0</td>\n",
       "      <td>6B</td>\n",
       "    </tr>\n",
       "  </tbody>\n",
       "</table>\n",
       "</div>"
      ],
      "text/plain": [
       "  ID PATIENT_ID ORGANISM  PEN_NM  AMC_NM  CRO_NM  ERY_NM  LVX_NM  MFX_NM  \\\n",
       "0  3   CY-20-11      spn       0       0       0       2       0       0   \n",
       "1  5   HB-20-03      spn       2       0       0       2       0       0   \n",
       "2  6   HB-20-06      spn       2       0       0       2       0       0   \n",
       "3  7   HB-20-12      spn       2       0       0       2       0       0   \n",
       "4  8   CJ-20-05      spn       0       0       0       2       0       0   \n",
       "\n",
       "   SXT_NM  CLI_NM SEROTYPE  \n",
       "0       0       0      19F  \n",
       "1       1       2      19A  \n",
       "2       1       2      19F  \n",
       "3       0       2      23F  \n",
       "4       0       0       6B  "
      ]
     },
     "execution_count": 6,
     "metadata": {},
     "output_type": "execute_result"
    }
   ],
   "source": [
    "ris.head()"
   ]
  },
  {
   "cell_type": "code",
   "execution_count": 12,
   "id": "610ebc5c",
   "metadata": {},
   "outputs": [
    {
     "data": {
      "text/html": [
       "<div>\n",
       "<style scoped>\n",
       "    .dataframe tbody tr th:only-of-type {\n",
       "        vertical-align: middle;\n",
       "    }\n",
       "\n",
       "    .dataframe tbody tr th {\n",
       "        vertical-align: top;\n",
       "    }\n",
       "\n",
       "    .dataframe thead th {\n",
       "        text-align: right;\n",
       "    }\n",
       "</style>\n",
       "<table border=\"1\" class=\"dataframe\">\n",
       "  <thead>\n",
       "    <tr style=\"text-align: right;\">\n",
       "      <th></th>\n",
       "      <th>ID</th>\n",
       "      <th>PEN_NM</th>\n",
       "    </tr>\n",
       "  </thead>\n",
       "  <tbody>\n",
       "    <tr>\n",
       "      <th>0</th>\n",
       "      <td>3</td>\n",
       "      <td>0</td>\n",
       "    </tr>\n",
       "    <tr>\n",
       "      <th>1</th>\n",
       "      <td>5</td>\n",
       "      <td>2</td>\n",
       "    </tr>\n",
       "    <tr>\n",
       "      <th>2</th>\n",
       "      <td>6</td>\n",
       "      <td>2</td>\n",
       "    </tr>\n",
       "    <tr>\n",
       "      <th>3</th>\n",
       "      <td>7</td>\n",
       "      <td>2</td>\n",
       "    </tr>\n",
       "    <tr>\n",
       "      <th>4</th>\n",
       "      <td>8</td>\n",
       "      <td>0</td>\n",
       "    </tr>\n",
       "    <tr>\n",
       "      <th>...</th>\n",
       "      <td>...</td>\n",
       "      <td>...</td>\n",
       "    </tr>\n",
       "    <tr>\n",
       "      <th>738</th>\n",
       "      <td>X437</td>\n",
       "      <td>2</td>\n",
       "    </tr>\n",
       "    <tr>\n",
       "      <th>739</th>\n",
       "      <td>X438</td>\n",
       "      <td>2</td>\n",
       "    </tr>\n",
       "    <tr>\n",
       "      <th>740</th>\n",
       "      <td>X439</td>\n",
       "      <td>0</td>\n",
       "    </tr>\n",
       "    <tr>\n",
       "      <th>741</th>\n",
       "      <td>X440</td>\n",
       "      <td>0</td>\n",
       "    </tr>\n",
       "    <tr>\n",
       "      <th>742</th>\n",
       "      <td>X441</td>\n",
       "      <td>2</td>\n",
       "    </tr>\n",
       "  </tbody>\n",
       "</table>\n",
       "<p>743 rows × 2 columns</p>\n",
       "</div>"
      ],
      "text/plain": [
       "       ID  PEN_NM\n",
       "0       3       0\n",
       "1       5       2\n",
       "2       6       2\n",
       "3       7       2\n",
       "4       8       0\n",
       "..    ...     ...\n",
       "738  X437       2\n",
       "739  X438       2\n",
       "740  X439       0\n",
       "741  X440       0\n",
       "742  X441       2\n",
       "\n",
       "[743 rows x 2 columns]"
      ]
     },
     "execution_count": 12,
     "metadata": {},
     "output_type": "execute_result"
    }
   ],
   "source": [
    "ris[['ID', 'PEN_NM']]"
   ]
  },
  {
   "cell_type": "code",
   "execution_count": null,
   "id": "3639455b",
   "metadata": {},
   "outputs": [],
   "source": [
    "pd.merge(left, ris[['ID', 'PEN_NM']], on=[\"key1\", \"key2\"])"
   ]
  }
 ],
 "metadata": {
  "kernelspec": {
   "display_name": "Python 3",
   "language": "python",
   "name": "python3"
  },
  "language_info": {
   "codemirror_mode": {
    "name": "ipython",
    "version": 3
   },
   "file_extension": ".py",
   "mimetype": "text/x-python",
   "name": "python",
   "nbconvert_exporter": "python",
   "pygments_lexer": "ipython3",
   "version": "3.6.13"
  }
 },
 "nbformat": 4,
 "nbformat_minor": 5
}
